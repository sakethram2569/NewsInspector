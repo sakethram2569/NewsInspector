{
 "cells": [
  {
   "cell_type": "markdown",
   "id": "dbc877a2-6561-42ef-a320-d5ebb7c7236e",
   "metadata": {},
   "source": [
    "# Fake News Detection"
   ]
  },
  {
   "cell_type": "markdown",
   "id": "693990a3-d3af-4bcd-bb30-77d91ea54dee",
   "metadata": {},
   "source": [
    "#### Importing the Dependencies"
   ]
  },
  {
   "cell_type": "code",
   "execution_count": null,
   "id": "22284f3f-1100-4256-84b0-be6c64392be1",
   "metadata": {},
   "outputs": [],
   "source": [
    "#core python libraries\n",
    "import pandas as pd\n",
    "import numpy as np\n",
    "import re\n",
    "import string\n",
    "\n",
    "#NLP Tools(Text Processing)\n",
    "import nltk\n",
    "from nltk.corpus import stopwords\n",
    "from nltk.stem import WordNetLemmatizer\n",
    "\n",
    "#Machine Learning(Modelling)\n",
    "from sklearn.model_selection import train_test_split\n",
    "from sklearn.feature_extraction.text import TfidfVectorizer\n",
    "from sklearn.metrics import accuracy_score, classification_report, confusion_matrix"
   ]
  },
  {
   "cell_type": "code",
   "execution_count": null,
   "id": "1edffbc4-7748-4e1e-b896-974eaeb097ad",
   "metadata": {},
   "outputs": [],
   "source": [
    "nltk.download('stopwords')\n",
    "nltk.download('wordnet')"
   ]
  },
  {
   "cell_type": "markdown",
   "id": "c5c1f6c0-71d5-4263-8290-979ab74163ce",
   "metadata": {},
   "source": [
    "#### Loading the Data"
   ]
  },
  {
   "cell_type": "code",
   "execution_count": null,
   "id": "36e7f642-2d5b-4c19-9ef2-3047cb8906dd",
   "metadata": {},
   "outputs": [],
   "source": [
    "data_fake = pd.read_csv('Fake.csv')\n",
    "data_true = pd.read_csv('True.csv')"
   ]
  },
  {
   "cell_type": "markdown",
   "id": "0c4cb286-27ba-4ec7-aa0f-3796b858bc1d",
   "metadata": {},
   "source": [
    "#### Labelling the Data"
   ]
  },
  {
   "cell_type": "code",
   "execution_count": null,
   "id": "7a910f9c-d092-42e2-9c7e-e06ef317e91a",
   "metadata": {},
   "outputs": [],
   "source": [
    "data_fake['class'] = 0\n",
    "data_true['class'] = 1"
   ]
  },
  {
   "cell_type": "markdown",
   "id": "a7b3a183-4b17-4127-9597-0aa6d6974a79",
   "metadata": {},
   "source": [
    "#### Combining and shuffling the data"
   ]
  },
  {
   "cell_type": "code",
   "execution_count": null,
   "id": "e2f0161f-e518-40a6-a624-9d631bf85bda",
   "metadata": {},
   "outputs": [],
   "source": [
    "data = pd.concat([data_fake, data_true], axis = 0)\n",
    "data = data.sample(frac=1)"
   ]
  },
  {
   "cell_type": "code",
   "execution_count": null,
   "id": "c5e1fc03-a87d-4c00-bbb5-0d72e90b94c6",
   "metadata": {},
   "outputs": [],
   "source": [
    "data.head()"
   ]
  },
  {
   "cell_type": "code",
   "execution_count": null,
   "id": "704e453f-0ffd-47b0-a4c1-3867f0e79570",
   "metadata": {},
   "outputs": [],
   "source": [
    "data = data.reset_index(drop = True)"
   ]
  },
  {
   "cell_type": "code",
   "execution_count": null,
   "id": "17007b22-93df-4a43-b59b-5b5d960c06f2",
   "metadata": {},
   "outputs": [],
   "source": [
    "data.head()"
   ]
  },
  {
   "cell_type": "code",
   "execution_count": null,
   "id": "ec56ae0e-9aac-4e90-b5f9-d48e590348da",
   "metadata": {},
   "outputs": [],
   "source": [
    "data = data.drop(['title', 'subject', 'date'], axis = 1)"
   ]
  },
  {
   "cell_type": "code",
   "execution_count": null,
   "id": "f8d03f84-2e0c-4113-883d-fb0c9c11fddc",
   "metadata": {},
   "outputs": [],
   "source": [
    "data.head()"
   ]
  },
  {
   "cell_type": "markdown",
   "id": "f96583b7-8413-4a79-b4df-baaffccc04f8",
   "metadata": {},
   "source": [
    "#### Definig clean_text function and applying it to data"
   ]
  },
  {
   "cell_type": "code",
   "execution_count": null,
   "id": "de673bf8-e921-447c-8a7b-3b09fbcb966b",
   "metadata": {},
   "outputs": [],
   "source": [
    "stop_words = set(stopwords.words('english'))\n",
    "lemmatizer = WordNetLemmatizer()\n",
    "\n",
    "def clean_text(text):\n",
    "    text = text.lower() #lowercase\n",
    "    text = re.sub(r'https?://\\S+|www.\\.\\S+', '', text) #removes links\n",
    "    text = re.sub(r'<.*?>+', '', text) # removes HTML tags\n",
    "    text = re.sub(r'[^a-zA-Z]', ' ', text) #removes special characters and numbers\n",
    "    text = re.sub(r'\\s+', ' ', text).strip() #removes extra spaces\n",
    "\n",
    "    words = text.split()\n",
    "    words = [lemmatizer.lemmatize(word) for word in words if word not in stop_words]\n",
    "\n",
    "    return ' '.join(words)"
   ]
  },
  {
   "cell_type": "code",
   "execution_count": null,
   "id": "9e2d5d69-8d73-4c74-b520-3c00609f1f3e",
   "metadata": {},
   "outputs": [],
   "source": [
    "data['text'] = data['text'].apply(clean_text)"
   ]
  },
  {
   "cell_type": "markdown",
   "id": "8405df8c-e225-4e27-8bee-fa45d87f65ab",
   "metadata": {},
   "source": [
    "#### Creating Dependent and Independent Variables"
   ]
  },
  {
   "cell_type": "code",
   "execution_count": null,
   "id": "cdfaf07d-7f07-4bfe-aa48-87e4967d4fa4",
   "metadata": {},
   "outputs": [],
   "source": [
    "x = data['text']\n",
    "y = data['class']"
   ]
  },
  {
   "cell_type": "markdown",
   "id": "9ff08df3-1308-4978-981b-a8d34a28a295",
   "metadata": {},
   "source": [
    "#### Splitting training and testing data"
   ]
  },
  {
   "cell_type": "code",
   "execution_count": null,
   "id": "ee303a06-0b4f-4b87-af23-b5ba98d125d1",
   "metadata": {},
   "outputs": [],
   "source": [
    "x_train, x_test, y_train, y_test = train_test_split(x, y, test_size = 0.25, random_state = 2569, stratify = y)"
   ]
  },
  {
   "cell_type": "code",
   "execution_count": null,
   "id": "fcc25292-88fb-4207-840f-d96c30957457",
   "metadata": {},
   "outputs": [],
   "source": [
    "print(y_train.value_counts(), '\\n') #checking the balance\n",
    "print(y_test.value_counts())"
   ]
  },
  {
   "cell_type": "markdown",
   "id": "cb33c90b-4cef-4056-b0fa-52bcc3b0a5b4",
   "metadata": {},
   "source": [
    "#### Text Vectorization with TF-IDF"
   ]
  },
  {
   "cell_type": "code",
   "execution_count": null,
   "id": "11c9dc1a-cead-4656-bdb3-4f00499acbc8",
   "metadata": {},
   "outputs": [],
   "source": [
    "vectorizer = TfidfVectorizer()\n",
    "xv_train = vectorizer.fit_transform(x_train)\n",
    "xv_test = vectorizer.transform(x_test)"
   ]
  },
  {
   "cell_type": "markdown",
   "id": "24811bfa-9f12-4f3b-bc55-2f63e4ef3650",
   "metadata": {},
   "source": [
    "#### Defining a function for evaluating the Model"
   ]
  },
  {
   "cell_type": "code",
   "execution_count": null,
   "id": "99817663-ffbe-4ea5-9268-0faaee342d02",
   "metadata": {},
   "outputs": [],
   "source": [
    "def model_eval(y_pred):\n",
    "    print('Accuracy of the Model: ', accuracy_score(y_test, y_pred))\n",
    "    print('Classification Report:\\n', classification_report(y_test, y_pred))"
   ]
  },
  {
   "cell_type": "markdown",
   "id": "eca3ef61-3758-412f-8cf8-6d2b661e7a32",
   "metadata": {},
   "source": [
    "#### Defining a function for Visualizing Confusion Matrix"
   ]
  },
  {
   "cell_type": "code",
   "execution_count": null,
   "id": "4e450d40-20e2-436a-aad2-98789dec699c",
   "metadata": {},
   "outputs": [],
   "source": [
    "import seaborn as sns\n",
    "import matplotlib.pyplot as plt\n",
    "\n",
    "def visualize_cm(y_pred):\n",
    "    cm = confusion_matrix(y_test, y_pred)\n",
    "    sns.heatmap(cm, annot = True, fmt = 'd', cmap = 'Blues')\n",
    "    plt.xlabel('Predicted')\n",
    "    plt.ylabel('Actual')\n",
    "    plt.title('Confusion Matrix')\n",
    "\n",
    "    return plt.show() "
   ]
  },
  {
   "attachments": {},
   "cell_type": "markdown",
   "id": "60dbe1de-d36f-4727-a23d-043306a97e66",
   "metadata": {},
   "source": [
    "#### Model Training and Visualizing Confusion Matrix"
   ]
  },
  {
   "cell_type": "markdown",
   "id": "8cfb82b4-c912-4d91-9554-3a63840c3f01",
   "metadata": {},
   "source": [
    "##### Logistic Regression Model"
   ]
  },
  {
   "cell_type": "code",
   "execution_count": null,
   "id": "fc8dc403-0039-4950-b358-cc419f680d47",
   "metadata": {},
   "outputs": [],
   "source": [
    "from sklearn.linear_model import LogisticRegression\n",
    "\n",
    "LR_Model = LogisticRegression()\n",
    "LR_Model.fit(xv_train, y_train)"
   ]
  },
  {
   "cell_type": "markdown",
   "id": "11bd36e7-39b0-4ac4-b34d-63775ba21ad6",
   "metadata": {},
   "source": [
    "LR Model Evalution"
   ]
  },
  {
   "cell_type": "code",
   "execution_count": null,
   "id": "b69a7842-37ba-4134-a00c-13f60ab23d77",
   "metadata": {},
   "outputs": [],
   "source": [
    "y_pred_lr = LR_Model.predict(xv_test)\n",
    "model_eval(y_pred_lr)"
   ]
  },
  {
   "cell_type": "markdown",
   "id": "b4c0911a-f58f-4814-a2a6-fc08f0abe52e",
   "metadata": {},
   "source": [
    "Visualizing Confusion Matrix for LR Model"
   ]
  },
  {
   "cell_type": "code",
   "execution_count": null,
   "id": "dceca89b-406c-453f-9e06-304bdc230cc4",
   "metadata": {},
   "outputs": [],
   "source": [
    "visualize_cm(y_pred_lr)"
   ]
  },
  {
   "cell_type": "markdown",
   "id": "520df55d-f362-4b03-bc15-8a65d4ad8154",
   "metadata": {},
   "source": [
    "##### Decision Tree Classifier"
   ]
  },
  {
   "cell_type": "code",
   "execution_count": null,
   "id": "ebb34d21-cc3b-4053-a64b-abfc57d691e4",
   "metadata": {},
   "outputs": [],
   "source": [
    "from sklearn.tree import DecisionTreeClassifier\n",
    "\n",
    "DT = DecisionTreeClassifier()\n",
    "DT.fit(xv_train, y_train)"
   ]
  },
  {
   "cell_type": "markdown",
   "id": "264b4d1b-2cae-4ded-8a7c-c14137c9cfc3",
   "metadata": {},
   "source": [
    "DT Model Evalution"
   ]
  },
  {
   "cell_type": "code",
   "execution_count": null,
   "id": "3cd37d28-08eb-4d62-b752-e762a58bde36",
   "metadata": {},
   "outputs": [],
   "source": [
    "y_pred_dt = DT.predict(xv_test)\n",
    "model_eval(y_pred_dt)"
   ]
  },
  {
   "cell_type": "markdown",
   "id": "d2ec22b4-f89f-46a8-9550-b06e63d19746",
   "metadata": {},
   "source": [
    "Visualizing Confusion Matrix for DT Model"
   ]
  },
  {
   "cell_type": "code",
   "execution_count": null,
   "id": "7acf0a57-1755-4f5e-95d5-94fd61359059",
   "metadata": {},
   "outputs": [],
   "source": [
    "visualize_cm(y_pred_dt)"
   ]
  },
  {
   "cell_type": "markdown",
   "id": "8b72279a-ef88-4f7a-ad19-1aaf552bc198",
   "metadata": {},
   "source": [
    "##### Gradient Boosting Classifier Model"
   ]
  },
  {
   "cell_type": "code",
   "execution_count": null,
   "id": "cfe49ccd-8ce8-4c61-a08f-1d623ae257ef",
   "metadata": {},
   "outputs": [],
   "source": [
    "from sklearn.ensemble import GradientBoostingClassifier\n",
    "\n",
    "GB = GradientBoostingClassifier()\n",
    "GB.fit(xv_train, y_train)"
   ]
  },
  {
   "cell_type": "markdown",
   "id": "e09febf9-d2cf-4735-a804-31568eed4ec3",
   "metadata": {},
   "source": [
    "GB Model Evalution"
   ]
  },
  {
   "cell_type": "code",
   "execution_count": null,
   "id": "d55bdac8-46c1-4e37-b3e0-a0a622026468",
   "metadata": {},
   "outputs": [],
   "source": [
    "y_pred_gb = GB.predict(xv_test)\n",
    "model_eval(y_pred_gb)"
   ]
  },
  {
   "cell_type": "markdown",
   "id": "947c8813-ed61-4604-b172-e8b0b7e93486",
   "metadata": {},
   "source": [
    "Visualizing Confusion Matrix for GB Model"
   ]
  },
  {
   "cell_type": "code",
   "execution_count": null,
   "id": "b3c82690-93a4-40c8-95eb-4c6abb2c63b3",
   "metadata": {},
   "outputs": [],
   "source": [
    "visualize_cm(y_pred_gb)"
   ]
  },
  {
   "cell_type": "markdown",
   "id": "8ac49f68-6ac5-4cee-83cd-df71abe7fcf5",
   "metadata": {},
   "source": [
    "##### Random Forest Classifier Model"
   ]
  },
  {
   "cell_type": "code",
   "execution_count": null,
   "id": "33455351-ecce-446d-a6cc-4ecf59aedc03",
   "metadata": {},
   "outputs": [],
   "source": [
    "from sklearn.ensemble import RandomForestClassifier\n",
    "\n",
    "RF = RandomForestClassifier()\n",
    "RF.fit(xv_train, y_train)"
   ]
  },
  {
   "cell_type": "markdown",
   "id": "1ae1fcb7-2a3f-4b00-af75-688b132bcc49",
   "metadata": {},
   "source": [
    "RF Model Evalution"
   ]
  },
  {
   "cell_type": "code",
   "execution_count": null,
   "id": "2abf19ff-b546-4d0d-bf9e-c7cd902cfa86",
   "metadata": {},
   "outputs": [],
   "source": [
    "y_pred_rf = RF.predict(xv_test)\n",
    "model_eval(y_pred_rf)"
   ]
  },
  {
   "cell_type": "markdown",
   "id": "cdad8add-b693-4fa1-a4cc-904813802fa4",
   "metadata": {},
   "source": [
    "Visualizing Confusion Matrix for RF Model"
   ]
  },
  {
   "cell_type": "code",
   "execution_count": null,
   "id": "ef629464-5281-45ba-8e3a-514a9ecef1ee",
   "metadata": {},
   "outputs": [],
   "source": [
    "visualize_cm(y_pred_rf)"
   ]
  },
  {
   "cell_type": "markdown",
   "id": "3965a4a3-c4a4-495a-9da7-2f3a595abb3d",
   "metadata": {},
   "source": [
    "#### Saving the Best Model and Vectorizer"
   ]
  },
  {
   "cell_type": "code",
   "execution_count": null,
   "id": "e8fba116-4f7c-45c6-aaea-9c069b33e069",
   "metadata": {},
   "outputs": [],
   "source": [
    "import pickle \n",
    "\n",
    "pickle.dump(LR, open('model.pkl', 'wb')) #since GradientBoostingClassifier has high accuracy\n",
    "pickle.dump(vectorizer, open('vectorizer.pkl', 'wb')) # saving the TF-IDF vectorizer"
   ]
  },
  {
   "cell_type": "code",
   "execution_count": null,
   "id": "ba2089b4-b13e-46a7-8907-e77da007cdf6",
   "metadata": {},
   "outputs": [],
   "source": [
    "import os\n",
    "os.getcwd()"
   ]
  },
  {
   "cell_type": "code",
   "execution_count": null,
   "id": "bfd08668-1483-4910-a657-bd6999f803a1",
   "metadata": {},
   "outputs": [],
   "source": [
    "!streamlit run app.py\n",
    "5+"
   ]
  },
  {
   "cell_type": "code",
   "execution_count": null,
   "id": "d215b001-6a36-4387-a835-cff54c895733",
   "metadata": {},
   "outputs": [],
   "source": [
    "import os\n",
    "os.getcwd()"
   ]
  },
  {
   "cell_type": "code",
   "execution_count": null,
   "id": "04f1cdec-ddd4-48dc-b652-ce8f1ba457cf",
   "metadata": {},
   "outputs": [],
   "source": []
  }
 ],
 "metadata": {
  "kernelspec": {
   "display_name": "Python 3 (ipykernel)",
   "language": "python",
   "name": "python3"
  },
  "language_info": {
   "codemirror_mode": {
    "name": "ipython",
    "version": 3
   },
   "file_extension": ".py",
   "mimetype": "text/x-python",
   "name": "python",
   "nbconvert_exporter": "python",
   "pygments_lexer": "ipython3",
   "version": "3.13.2"
  }
 },
 "nbformat": 4,
 "nbformat_minor": 5
}
